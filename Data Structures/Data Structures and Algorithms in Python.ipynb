{
 "cells": [
  {
   "cell_type": "code",
   "execution_count": 1,
   "id": "a9574ac0",
   "metadata": {},
   "outputs": [],
   "source": [
    "project='python-divide-and-conquer-assignment'"
   ]
  },
  {
   "cell_type": "code",
   "execution_count": 2,
   "id": "b8c3d4cf",
   "metadata": {},
   "outputs": [],
   "source": [
    "!pip install jovian --upgrade --quiet"
   ]
  },
  {
   "cell_type": "code",
   "execution_count": 3,
   "id": "ffd03e86",
   "metadata": {},
   "outputs": [
    {
     "data": {
      "application/javascript": [
       "window.require && require([\"base/js/namespace\"],function(Jupyter){Jupyter.notebook.save_checkpoint()})"
      ],
      "text/plain": [
       "<IPython.core.display.Javascript object>"
      ]
     },
     "metadata": {},
     "output_type": "display_data"
    },
    {
     "name": "stdout",
     "output_type": "stream",
     "text": [
      "[jovian] Updating notebook \"vikthour/python-divide-and-conquer-assignment\" on https://jovian.ai/\n",
      "[jovian] Committed successfully! https://jovian.ai/vikthour/python-divide-and-conquer-assignment\n"
     ]
    },
    {
     "data": {
      "text/plain": [
       "'https://jovian.ai/vikthour/python-divide-and-conquer-assignment'"
      ]
     },
     "execution_count": 3,
     "metadata": {},
     "output_type": "execute_result"
    }
   ],
   "source": [
    "import jovian\n",
    "jovian.commit(project=project, privacy='secret', environment=None)"
   ]
  },
  {
   "cell_type": "markdown",
   "id": "041e2a44",
   "metadata": {},
   "source": [
    "## Problem Statement - Polynomial Multiplication\n",
    "\n",
    "> Given two polynomials represented by two lists, write a function that efficiently multiplies given two polynomials. For example, the lists `[2, 0, 5, 7]` and `[3, 4, 2]` represent the polynomials $2 + 5x^2 + 7x^3$ and $3 + 4x + 2x^2$. \n",
    "> \n",
    "> Their product is \n",
    ">\n",
    "> $(2 \\times 3) + (2 \\times 4 + 0 \\times 3)x + (2 \\times 2 + 3 \\times 5 + 4 \\times 0)x^2 + (7 \\times 3 + 5 \\times 4 + 0 \\times 2)x^3 + (7 \\times 4 + 5 \\times 2)x^4 + (7 \\times 2)x^5$ i.e. \n",
    ">\n",
    ">$6 + 8x + 19x^2 + 41x^3 + 38x^4 + 14x^5$\n",
    "> \n",
    ">It can be represented by the list `[6, 8, 19, 41, 38, 14]`."
   ]
  },
  {
   "cell_type": "markdown",
   "id": "15b788d1",
   "metadata": {},
   "source": [
    "## The Method\n",
    "\n",
    "Here's the systematic strategy we'll apply for solving problems:\n",
    "\n",
    "1. State the problem clearly. Identify the input & output formats.\n",
    "2. Come up with some example inputs & outputs. Try to cover all edge cases.\n",
    "3. Come up with a correct solution for the problem. State it in plain English.\n",
    "4. Implement the solution and test it using example inputs. Fix bugs, if any.\n",
    "5. Analyze the algorithm's complexity and identify inefficiencies, if any.\n",
    "6. Apply the right technique to overcome the inefficiency. Repeat steps 3 to 6.\n",
    "\n",
    "This approach is explained in detail in [Lesson 1](https://jovian.ai/learn/data-structures-and-algorithms-in-python/lesson/lesson-1-binary-search-linked-lists-and-complexity) of the course. Let's apply this approach step-by-step."
   ]
  },
  {
   "cell_type": "markdown",
   "id": "46a4a2a2",
   "metadata": {},
   "source": [
    "## Solution\n",
    "\n",
    "\n",
    "### 1. State the problem clearly. Identify the input & output formats.\n",
    "\n",
    "While this problem is stated clearly enough, it's always useful to try and express in your own words, in a way that makes it most clear for you. \n",
    "\n",
    "\n",
    "**Problem**\n",
    "\n",
    "> Write a function that can multiply two polynomials and return the coefficients as the degrees increases.\n",
    "\n",
    "<br/>\n",
    "\n",
    "\n",
    "**Input**\n",
    "\n",
    "1. coefficents of polynomial1\n",
    "2. coeficients of polynomial2\n",
    "\n",
    "\n",
    "\n",
    "**Output**\n",
    "\n",
    "1. coeficients of the product of polynomial1 and polynomial2\n",
    "\n",
    "\n",
    "<br/>\n",
    "\n",
    "Based on the above, we can now create a signature of our function:"
   ]
  },
  {
   "cell_type": "code",
   "execution_count": 4,
   "id": "45b5468a",
   "metadata": {},
   "outputs": [],
   "source": [
    "def multiply(poly1, poly2):\n",
    "    pass"
   ]
  },
  {
   "cell_type": "code",
   "execution_count": 5,
   "id": "3570627e",
   "metadata": {},
   "outputs": [],
   "source": [
    "import jovian"
   ]
  },
  {
   "cell_type": "code",
   "execution_count": 6,
   "id": "12f059f6",
   "metadata": {},
   "outputs": [
    {
     "data": {
      "application/javascript": [
       "window.require && require([\"base/js/namespace\"],function(Jupyter){Jupyter.notebook.save_checkpoint()})"
      ],
      "text/plain": [
       "<IPython.core.display.Javascript object>"
      ]
     },
     "metadata": {},
     "output_type": "display_data"
    },
    {
     "name": "stdout",
     "output_type": "stream",
     "text": [
      "[jovian] Updating notebook \"vikthour/python-divide-and-conquer-assignment\" on https://jovian.ai/\n",
      "[jovian] Committed successfully! https://jovian.ai/vikthour/python-divide-and-conquer-assignment\n"
     ]
    },
    {
     "data": {
      "text/plain": [
       "'https://jovian.ai/vikthour/python-divide-and-conquer-assignment'"
      ]
     },
     "execution_count": 6,
     "metadata": {},
     "output_type": "execute_result"
    }
   ],
   "source": [
    "jovian.commit()"
   ]
  },
  {
   "cell_type": "markdown",
   "id": "c209f09e",
   "metadata": {},
   "source": [
    "### 2. Come up with some example inputs & outputs. Try to cover all edge cases.\n",
    "\n",
    "Our function should be able to handle any set of valid inputs we pass into it. List a few scenarios here:\n",
    "\n",
    "1. Two polynomials of different degrees\n",
    "2. Two polynomial has one element.\n",
    "3. One polynomial has two elements of successive degrees\n",
    "4. Two polynomials has two elements\n",
    "5. One polynomial has two elements\n",
    "6. One polynomial is of degree three and other degree has no coefficients.\n",
    "7. Two polynomials is of degree three and other degree has no coefficients.\n",
    "8. One polynomial with a constant.\n",
    "9. One polynomial with a constant and the other with zero.\n",
    "10. One polynomial with elements and the other with an empty list.\n",
    "\n",
    "\n",
    "Create a test case of each of the above scenarios. We'll express our test cases as dictionaries, to test them easily. Each dictionary will contain 2 keys: `input` (a dictionary itself containing one key for each argument to the function and `output` (the expected result from the function). "
   ]
  },
  {
   "cell_type": "code",
   "execution_count": 7,
   "id": "b9186ffb",
   "metadata": {},
   "outputs": [],
   "source": [
    "test0 = {\n",
    "    'input': {\n",
    "        'poly1': [2, 0, 5, 7],\n",
    "        'poly2': [3, 4, 2]\n",
    "    },\n",
    "    'output': [6, 8, 19, 41, 38, 14]\n",
    "}"
   ]
  },
  {
   "cell_type": "code",
   "execution_count": 8,
   "id": "59be484b",
   "metadata": {},
   "outputs": [],
   "source": [
    "test1 = {\n",
    "    'input': {\n",
    "        'poly1': [1, 2, 4],\n",
    "        'poly2': [2, 4]\n",
    "    },\n",
    "    'output': [2, 8, 16, 16]\n",
    "}"
   ]
  },
  {
   "cell_type": "code",
   "execution_count": 9,
   "id": "5787ee74",
   "metadata": {},
   "outputs": [],
   "source": [
    "test2 = {\n",
    "    'input': {\n",
    "        'poly1': [2],\n",
    "        'poly2': [4]\n",
    "    },\n",
    "    'output': [8]\n",
    "}"
   ]
  },
  {
   "cell_type": "code",
   "execution_count": 10,
   "id": "fa7dc3a2",
   "metadata": {},
   "outputs": [],
   "source": [
    "test3 = {\n",
    "    'input': {\n",
    "        'poly1': [2, 5],\n",
    "        'poly2': [1, 2, 3, 4]\n",
    "    },\n",
    "    'output': [2, 9, 16, 23, 20]\n",
    "}"
   ]
  },
  {
   "cell_type": "code",
   "execution_count": 11,
   "id": "af68cbc2",
   "metadata": {},
   "outputs": [],
   "source": [
    "test4 = {\n",
    "    'input': {\n",
    "        'poly1': [2, 6],\n",
    "        'poly2': [0, 3]\n",
    "    },\n",
    "    'output': [0, 6, 18]\n",
    "}"
   ]
  },
  {
   "cell_type": "code",
   "execution_count": 12,
   "id": "1654d029",
   "metadata": {},
   "outputs": [],
   "source": [
    "test5 = {\n",
    "    'input': {\n",
    "        'poly1': [0, 5, 0, 6],\n",
    "        'poly2': [1, 3]\n",
    "    },\n",
    "    'output': [0, 5, 15, 6, 18]\n",
    "}"
   ]
  },
  {
   "cell_type": "code",
   "execution_count": 13,
   "id": "21ead5ed",
   "metadata": {},
   "outputs": [],
   "source": [
    "test6 = {\n",
    "    'input': {\n",
    "        'poly1': [0, 0, 0, 3],\n",
    "        'poly2': [0, 0, 0, 3]\n",
    "    },\n",
    "    'output': [0, 0, 0, 0, 0, 0, 9]\n",
    "}"
   ]
  },
  {
   "cell_type": "code",
   "execution_count": 14,
   "id": "d44102c7",
   "metadata": {},
   "outputs": [],
   "source": [
    "test7 = {\n",
    "    'input': {\n",
    "        'poly1': [0, 0, 0, 3],\n",
    "        'poly2': [5, 4, 3, 1]\n",
    "    },\n",
    "    'output': [0, 0, 0, 15, 12, 9, 3]\n",
    "}"
   ]
  },
  {
   "cell_type": "code",
   "execution_count": 15,
   "id": "5f61a306",
   "metadata": {},
   "outputs": [],
   "source": [
    "test8 = {\n",
    "    'input': {\n",
    "        'poly1': [2],\n",
    "        'poly2': [0, 6]\n",
    "    },\n",
    "    'output': [0, 12]\n",
    "}"
   ]
  },
  {
   "cell_type": "code",
   "execution_count": 16,
   "id": "1fbb9730",
   "metadata": {},
   "outputs": [],
   "source": [
    "test9 = {\n",
    "    'input': {\n",
    "        'poly1': [2],\n",
    "        'poly2': [0]\n",
    "    },\n",
    "    'output': [0]\n",
    "}"
   ]
  },
  {
   "cell_type": "code",
   "execution_count": 17,
   "id": "6793c7c7",
   "metadata": {},
   "outputs": [],
   "source": [
    "test10 = {\n",
    "    'input': {\n",
    "        'poly1': [],\n",
    "        'poly2': [7, 9, 9]\n",
    "    },\n",
    "    'output': []\n",
    "}"
   ]
  },
  {
   "cell_type": "code",
   "execution_count": 18,
   "id": "82f5f3a3",
   "metadata": {},
   "outputs": [],
   "source": [
    "test10 = {\n",
    "    'input': {\n",
    "        'poly1': [],\n",
    "        'poly2': []\n",
    "    },\n",
    "    'output': []\n",
    "}"
   ]
  },
  {
   "cell_type": "code",
   "execution_count": 19,
   "id": "fdc0189a",
   "metadata": {},
   "outputs": [],
   "source": [
    "test11 = {\n",
    "    'input': {\n",
    "        'poly1': [0],\n",
    "        'poly2': [0]\n",
    "    },\n",
    "    'output': [0]\n",
    "}"
   ]
  },
  {
   "cell_type": "code",
   "execution_count": 20,
   "id": "5f01e92d",
   "metadata": {},
   "outputs": [],
   "source": [
    "tests = [test0, test1, test2, test3, test4, test5, test6, test7, test8, test9, test10, test11]"
   ]
  },
  {
   "cell_type": "code",
   "execution_count": 21,
   "id": "333087af",
   "metadata": {},
   "outputs": [
    {
     "data": {
      "text/plain": [
       "[{'input': {'poly1': [2, 0, 5, 7], 'poly2': [3, 4, 2]},\n",
       "  'output': [6, 8, 19, 41, 38, 14]},\n",
       " {'input': {'poly1': [1, 2, 4], 'poly2': [2, 4]}, 'output': [2, 8, 16, 16]},\n",
       " {'input': {'poly1': [2], 'poly2': [4]}, 'output': [8]},\n",
       " {'input': {'poly1': [2, 5], 'poly2': [1, 2, 3, 4]},\n",
       "  'output': [2, 9, 16, 23, 20]},\n",
       " {'input': {'poly1': [2, 6], 'poly2': [0, 3]}, 'output': [0, 6, 18]},\n",
       " {'input': {'poly1': [0, 5, 0, 6], 'poly2': [1, 3]},\n",
       "  'output': [0, 5, 15, 6, 18]},\n",
       " {'input': {'poly1': [0, 0, 0, 3], 'poly2': [0, 0, 0, 3]},\n",
       "  'output': [0, 0, 0, 0, 0, 0, 9]},\n",
       " {'input': {'poly1': [0, 0, 0, 3], 'poly2': [5, 4, 3, 1]},\n",
       "  'output': [0, 0, 0, 15, 12, 9, 3]},\n",
       " {'input': {'poly1': [2], 'poly2': [0, 6]}, 'output': [0, 12]},\n",
       " {'input': {'poly1': [2], 'poly2': [0]}, 'output': [0]},\n",
       " {'input': {'poly1': [], 'poly2': []}, 'output': []},\n",
       " {'input': {'poly1': [0], 'poly2': [0]}, 'output': [0]}]"
      ]
     },
     "execution_count": 21,
     "metadata": {},
     "output_type": "execute_result"
    }
   ],
   "source": [
    "tests"
   ]
  },
  {
   "cell_type": "code",
   "execution_count": 22,
   "id": "b1d4629a",
   "metadata": {},
   "outputs": [],
   "source": [
    "import jovian"
   ]
  },
  {
   "cell_type": "code",
   "execution_count": 23,
   "id": "cf8b5755",
   "metadata": {},
   "outputs": [
    {
     "data": {
      "application/javascript": [
       "window.require && require([\"base/js/namespace\"],function(Jupyter){Jupyter.notebook.save_checkpoint()})"
      ],
      "text/plain": [
       "<IPython.core.display.Javascript object>"
      ]
     },
     "metadata": {},
     "output_type": "display_data"
    },
    {
     "name": "stdout",
     "output_type": "stream",
     "text": [
      "[jovian] Updating notebook \"vikthour/python-divide-and-conquer-assignment\" on https://jovian.ai/\n",
      "[jovian] Committed successfully! https://jovian.ai/vikthour/python-divide-and-conquer-assignment\n"
     ]
    },
    {
     "data": {
      "text/plain": [
       "'https://jovian.ai/vikthour/python-divide-and-conquer-assignment'"
      ]
     },
     "execution_count": 23,
     "metadata": {},
     "output_type": "execute_result"
    }
   ],
   "source": [
    "jovian.commit()"
   ]
  },
  {
   "cell_type": "markdown",
   "id": "05dfc04f",
   "metadata": {},
   "source": [
    "### 3. Come up with a correct solution for the problem. State it in plain English.\n",
    "\n",
    "Our first goal should always be to come up with a _correct_ solution to the problem, which may not necessarily be the most _efficient_ solution. \n",
    "\n",
    "Here's the simplest solution: If you have lists `poly1` and `poly2` representing polynomials of length $m$ and $n$ respectively, the highest degree of the exponents are $m-1$ and $n-1$ respectively. Their product has the degree $(m - 1) + (n - 1)$ i.e $m + n - 2$. The list representing the product has the length $m + n - 1$. So, we can create a list `result` of length $m + n - 1$, and set \n",
    "\n",
    "`result[k]` = Sum of all the pairs `poly1[i] * poly2[j]` where `i+j = k`\n",
    "\n",
    "Example:\n",
    "\n",
    "$(2 + 5x^2 + 7x^3) \\times (3 + 4x + 2x^2)$\n",
    "\n",
    "$= (2 \\times 3) + (2 \\times 4 + 0 \\times 3)x + (2 \\times 2 + 3 \\times 5 + 4 \\times 0)x^2 + (7 \\times 3 + 5 \\times 4 + 0 \\times 2)x^3 + (7 \\times 4 + 5 \\times 2)x^4 + (7 \\times 2)x^5$\n",
    "\n",
    "$= 6 + 8x + 19x^2 + 41x^3 + 38x^4 + 14x^5$\n",
    "\n",
    "\n",
    "\n",
    "Explain this solution in your own words below:\n",
    "\n",
    "1. If the any of the two polynomials are empty, return an empty list.\n",
    "2. Generate the degree of the output by adding the degrees of the two polynomials\n",
    "3. Create a list of the output by multiplying a list of zero with sum of the two polynomials minus one\n",
    "4. Generate a list of output where the index of the output equals the sum of these index of the two polynomials.\n",
    "5. Return the output."
   ]
  },
  {
   "cell_type": "code",
   "execution_count": 24,
   "id": "989c0923",
   "metadata": {},
   "outputs": [],
   "source": [
    "import jovian"
   ]
  },
  {
   "cell_type": "code",
   "execution_count": 25,
   "id": "531adddd",
   "metadata": {},
   "outputs": [
    {
     "data": {
      "application/javascript": [
       "window.require && require([\"base/js/namespace\"],function(Jupyter){Jupyter.notebook.save_checkpoint()})"
      ],
      "text/plain": [
       "<IPython.core.display.Javascript object>"
      ]
     },
     "metadata": {},
     "output_type": "display_data"
    },
    {
     "name": "stdout",
     "output_type": "stream",
     "text": [
      "[jovian] Updating notebook \"vikthour/python-divide-and-conquer-assignment\" on https://jovian.ai/\n",
      "[jovian] Committed successfully! https://jovian.ai/vikthour/python-divide-and-conquer-assignment\n"
     ]
    },
    {
     "data": {
      "text/plain": [
       "'https://jovian.ai/vikthour/python-divide-and-conquer-assignment'"
      ]
     },
     "execution_count": 25,
     "metadata": {},
     "output_type": "execute_result"
    }
   ],
   "source": [
    "jovian.commit()"
   ]
  },
  {
   "cell_type": "code",
   "execution_count": 26,
   "id": "cf1adae2",
   "metadata": {},
   "outputs": [],
   "source": [
    "def multiply_basic(poly1, poly2):\n",
    "    m = len(poly1)\n",
    "    n = len(poly2)\n",
    "    output_len = m + n -1\n",
    "    result = [0] * output_len\n",
    "    if (poly1 or poly2) != []:\n",
    "        for i in range(len(poly1)):\n",
    "            for j in range(len(poly2)):\n",
    "                for k in range(len(result)):\n",
    "                    if k == (i + j):\n",
    "                        result[k] += poly1[i] * poly2[j]\n",
    "        return result\n",
    "    else:\n",
    "        return []"
   ]
  },
  {
   "cell_type": "code",
   "execution_count": 27,
   "id": "582d112b",
   "metadata": {},
   "outputs": [],
   "source": [
    "from jovian.pythondsa import evaluate_test_cases"
   ]
  },
  {
   "cell_type": "code",
   "execution_count": 28,
   "id": "ad2b397f",
   "metadata": {},
   "outputs": [
    {
     "name": "stdout",
     "output_type": "stream",
     "text": [
      "\n",
      "\u001b[1mTEST CASE #0\u001b[0m\n",
      "\n",
      "Input:\n",
      "{'poly1': [2, 0, 5, 7], 'poly2': [3, 4, 2]}\n",
      "\n",
      "Expected Output:\n",
      "[6, 8, 19, 41, 38, 14]\n",
      "\n",
      "\n",
      "Actual Output:\n",
      "[6, 8, 19, 41, 38, 14]\n",
      "\n",
      "Execution Time:\n",
      "0.085 ms\n",
      "\n",
      "Test Result:\n",
      "\u001b[92mPASSED\u001b[0m\n",
      "\n",
      "\n",
      "\u001b[1mTEST CASE #1\u001b[0m\n",
      "\n",
      "Input:\n",
      "{'poly1': [1, 2, 4], 'poly2': [2, 4]}\n",
      "\n",
      "Expected Output:\n",
      "[2, 8, 16, 16]\n",
      "\n",
      "\n",
      "Actual Output:\n",
      "[2, 8, 16, 16]\n",
      "\n",
      "Execution Time:\n",
      "0.056 ms\n",
      "\n",
      "Test Result:\n",
      "\u001b[92mPASSED\u001b[0m\n",
      "\n",
      "\n",
      "\u001b[1mTEST CASE #2\u001b[0m\n",
      "\n",
      "Input:\n",
      "{'poly1': [2], 'poly2': [4]}\n",
      "\n",
      "Expected Output:\n",
      "[8]\n",
      "\n",
      "\n",
      "Actual Output:\n",
      "[8]\n",
      "\n",
      "Execution Time:\n",
      "0.057 ms\n",
      "\n",
      "Test Result:\n",
      "\u001b[92mPASSED\u001b[0m\n",
      "\n",
      "\n",
      "\u001b[1mTEST CASE #3\u001b[0m\n",
      "\n",
      "Input:\n",
      "{'poly1': [2, 5], 'poly2': [1, 2, 3, 4]}\n",
      "\n",
      "Expected Output:\n",
      "[2, 9, 16, 23, 20]\n",
      "\n",
      "\n",
      "Actual Output:\n",
      "[2, 9, 16, 23, 20]\n",
      "\n",
      "Execution Time:\n",
      "0.101 ms\n",
      "\n",
      "Test Result:\n",
      "\u001b[92mPASSED\u001b[0m\n",
      "\n",
      "\n",
      "\u001b[1mTEST CASE #4\u001b[0m\n",
      "\n",
      "Input:\n",
      "{'poly1': [2, 6], 'poly2': [0, 3]}\n",
      "\n",
      "Expected Output:\n",
      "[0, 6, 18]\n",
      "\n",
      "\n",
      "Actual Output:\n",
      "[0, 6, 18]\n",
      "\n",
      "Execution Time:\n",
      "0.057 ms\n",
      "\n",
      "Test Result:\n",
      "\u001b[92mPASSED\u001b[0m\n",
      "\n",
      "\n",
      "\u001b[1mTEST CASE #5\u001b[0m\n",
      "\n",
      "Input:\n",
      "{'poly1': [0, 5, 0, 6], 'poly2': [1, 3]}\n",
      "\n",
      "Expected Output:\n",
      "[0, 5, 15, 6, 18]\n",
      "\n",
      "\n",
      "Actual Output:\n",
      "[0, 5, 15, 6, 18]\n",
      "\n",
      "Execution Time:\n",
      "0.058 ms\n",
      "\n",
      "Test Result:\n",
      "\u001b[92mPASSED\u001b[0m\n",
      "\n",
      "\n",
      "\u001b[1mTEST CASE #6\u001b[0m\n",
      "\n",
      "Input:\n",
      "{'poly1': [0, 0, 0, 3], 'poly2': [0, 0, 0, 3]}\n",
      "\n",
      "Expected Output:\n",
      "[0, 0, 0, 0, 0, 0, 9]\n",
      "\n",
      "\n",
      "Actual Output:\n",
      "[0, 0, 0, 0, 0, 0, 9]\n",
      "\n",
      "Execution Time:\n",
      "0.09 ms\n",
      "\n",
      "Test Result:\n",
      "\u001b[92mPASSED\u001b[0m\n",
      "\n",
      "\n",
      "\u001b[1mTEST CASE #7\u001b[0m\n",
      "\n",
      "Input:\n",
      "{'poly1': [0, 0, 0, 3], 'poly2': [5, 4, 3, 1]}\n",
      "\n",
      "Expected Output:\n",
      "[0, 0, 0, 15, 12, 9, 3]\n",
      "\n",
      "\n",
      "Actual Output:\n",
      "[0, 0, 0, 15, 12, 9, 3]\n",
      "\n",
      "Execution Time:\n",
      "0.102 ms\n",
      "\n",
      "Test Result:\n",
      "\u001b[92mPASSED\u001b[0m\n",
      "\n",
      "\n",
      "\u001b[1mTEST CASE #8\u001b[0m\n",
      "\n",
      "Input:\n",
      "{'poly1': [2], 'poly2': [0, 6]}\n",
      "\n",
      "Expected Output:\n",
      "[0, 12]\n",
      "\n",
      "\n",
      "Actual Output:\n",
      "[0, 12]\n",
      "\n",
      "Execution Time:\n",
      "0.019 ms\n",
      "\n",
      "Test Result:\n",
      "\u001b[92mPASSED\u001b[0m\n",
      "\n",
      "\n",
      "\u001b[1mTEST CASE #9\u001b[0m\n",
      "\n",
      "Input:\n",
      "{'poly1': [2], 'poly2': [0]}\n",
      "\n",
      "Expected Output:\n",
      "[0]\n",
      "\n",
      "\n",
      "Actual Output:\n",
      "[0]\n",
      "\n",
      "Execution Time:\n",
      "0.025 ms\n",
      "\n",
      "Test Result:\n",
      "\u001b[92mPASSED\u001b[0m\n",
      "\n",
      "\n",
      "\u001b[1mTEST CASE #10\u001b[0m\n",
      "\n",
      "Input:\n",
      "{'poly1': [], 'poly2': []}\n",
      "\n",
      "Expected Output:\n",
      "[]\n",
      "\n",
      "\n",
      "Actual Output:\n",
      "[]\n",
      "\n",
      "Execution Time:\n",
      "0.009 ms\n",
      "\n",
      "Test Result:\n",
      "\u001b[92mPASSED\u001b[0m\n",
      "\n",
      "\n",
      "\u001b[1mTEST CASE #11\u001b[0m\n",
      "\n",
      "Input:\n",
      "{'poly1': [0], 'poly2': [0]}\n",
      "\n",
      "Expected Output:\n",
      "[0]\n",
      "\n",
      "\n",
      "Actual Output:\n",
      "[0]\n",
      "\n",
      "Execution Time:\n",
      "0.016 ms\n",
      "\n",
      "Test Result:\n",
      "\u001b[92mPASSED\u001b[0m\n",
      "\n",
      "\n",
      "\u001b[1mSUMMARY\u001b[0m\n",
      "\n",
      "TOTAL: 12, \u001b[92mPASSED\u001b[0m: 12, \u001b[91mFAILED\u001b[0m: 0\n"
     ]
    }
   ],
   "source": [
    "results = evaluate_test_cases(multiply_basic, tests)"
   ]
  },
  {
   "cell_type": "code",
   "execution_count": 29,
   "id": "1cc1841f",
   "metadata": {},
   "outputs": [
    {
     "name": "stdout",
     "output_type": "stream",
     "text": [
      "Input: [2, 0, 5, 7] [3, 4, 2]\n",
      "Expected output: [6, 8, 19, 41, 38, 14]\n",
      "Actual output: [6, 8, 19, 41, 38, 14]\n",
      "Match: True\n"
     ]
    }
   ],
   "source": [
    "poly01, poly02, output0 = test0['input']['poly1'], test0['input']['poly2'], test0['output']\n",
    "print('Input:', poly01, poly02)\n",
    "print('Expected output:', output0)\n",
    "result0 = multiply_basic(poly01, poly02)\n",
    "print('Actual output:', result0)\n",
    "print('Match:', result0 == output0)"
   ]
  },
  {
   "cell_type": "code",
   "execution_count": 32,
   "id": "8e4319bd",
   "metadata": {},
   "outputs": [],
   "source": [
    "import jovian"
   ]
  },
  {
   "cell_type": "code",
   "execution_count": 34,
   "id": "1939f341",
   "metadata": {},
   "outputs": [
    {
     "data": {
      "application/javascript": [
       "window.require && require([\"base/js/namespace\"],function(Jupyter){Jupyter.notebook.save_checkpoint()})"
      ],
      "text/plain": [
       "<IPython.core.display.Javascript object>"
      ]
     },
     "metadata": {},
     "output_type": "display_data"
    },
    {
     "name": "stdout",
     "output_type": "stream",
     "text": [
      "[jovian] Updating notebook \"vikthour/python-divide-and-conquer-assignment\" on https://jovian.ai/\n",
      "[jovian] Committed successfully! https://jovian.ai/vikthour/python-divide-and-conquer-assignment\n"
     ]
    },
    {
     "data": {
      "text/plain": [
       "'https://jovian.ai/vikthour/python-divide-and-conquer-assignment'"
      ]
     },
     "execution_count": 34,
     "metadata": {},
     "output_type": "execute_result"
    }
   ],
   "source": [
    "jovian.commit()"
   ]
  },
  {
   "cell_type": "markdown",
   "id": "7af20580",
   "metadata": {},
   "source": [
    "### 5. Analyze the algorithm's complexity and identify inefficiencies, if any.\n",
    "\n",
    "Can you analyze the time and space complexity of this algorithm?"
   ]
  },
  {
   "cell_type": "code",
   "execution_count": 35,
   "id": "84d61dc9",
   "metadata": {},
   "outputs": [],
   "source": [
    "multiply_basic_time_complexity = 'O(n**2)'"
   ]
  },
  {
   "cell_type": "code",
   "execution_count": 36,
   "id": "aa6d1042",
   "metadata": {},
   "outputs": [],
   "source": [
    "multiply_basic_space_complexity = 'O(2n)'"
   ]
  },
  {
   "cell_type": "code",
   "execution_count": 37,
   "id": "7efd22ba",
   "metadata": {},
   "outputs": [],
   "source": [
    "import jovian"
   ]
  },
  {
   "cell_type": "code",
   "execution_count": 38,
   "id": "d9a098fd",
   "metadata": {},
   "outputs": [
    {
     "data": {
      "application/javascript": [
       "window.require && require([\"base/js/namespace\"],function(Jupyter){Jupyter.notebook.save_checkpoint()})"
      ],
      "text/plain": [
       "<IPython.core.display.Javascript object>"
      ]
     },
     "metadata": {},
     "output_type": "display_data"
    },
    {
     "name": "stdout",
     "output_type": "stream",
     "text": [
      "[jovian] Updating notebook \"vikthour/python-divide-and-conquer-assignment\" on https://jovian.ai/\n",
      "[jovian] Committed successfully! https://jovian.ai/vikthour/python-divide-and-conquer-assignment\n"
     ]
    },
    {
     "data": {
      "text/plain": [
       "'https://jovian.ai/vikthour/python-divide-and-conquer-assignment'"
      ]
     },
     "execution_count": 38,
     "metadata": {},
     "output_type": "execute_result"
    }
   ],
   "source": [
    "jovian.commit()"
   ]
  },
  {
   "cell_type": "markdown",
   "id": "4464aa12",
   "metadata": {},
   "source": [
    "### 6. Apply the right technique to overcome the inefficiency. Repeat steps 3 to 6.\n",
    "\n",
    "We can apply the divide and conquer technique to solve this problem more efficiently. Given two polynomials `A` and `B`, we can express each of them as a sum of two polynomials as follows:\n",
    "\n",
    "<img src=\"https://i.imgur.com/FjKQF5h.png\" width=\"480\">\n",
    "\n",
    "We need to compute the terms `A0 * B0`, `A1 * B0 + A0 * B1` and `A1 * B1`. This can obviously be done using 4 multiplications, but here's a way of doing it with just three multiplications:\n",
    "\n",
    "<img src=\"https://i.imgur.com/G3vD1GX.png\" width=\"480\">\n",
    "\n",
    "\n",
    "Each of the products can themselves be computed recursively. For a more detailed explanation of this approach see http://www.cse.ust.hk/~dekai/271/notes/L03/L03.pdf .\n",
    "\n",
    "\n",
    "Need help? Discuss and ask questions on the forum: https://jovian.ai/forum/c/data-structures-and-algorithms-in-python/assignment-3/89"
   ]
  },
  {
   "cell_type": "markdown",
   "id": "0b631334",
   "metadata": {},
   "source": [
    "### 7. Come up with a correct solution for the problem. State it in plain English.\n",
    "\n",
    "Explain the approach described above in your own words below:\n",
    "\n",
    "1. Divide both polynomials by two such that both halves sum up to the original polynomial\n",
    "2. The coefficients of the first part of the first polynomial must be multiplied with the coefficients of the first part of the second polynomial.\n",
    "3. Generates the products recursively."
   ]
  },
  {
   "cell_type": "code",
   "execution_count": 39,
   "id": "9909f7b3",
   "metadata": {},
   "outputs": [],
   "source": [
    "import jovian"
   ]
  },
  {
   "cell_type": "code",
   "execution_count": 40,
   "id": "a9fd35f6",
   "metadata": {},
   "outputs": [
    {
     "data": {
      "application/javascript": [
       "window.require && require([\"base/js/namespace\"],function(Jupyter){Jupyter.notebook.save_checkpoint()})"
      ],
      "text/plain": [
       "<IPython.core.display.Javascript object>"
      ]
     },
     "metadata": {},
     "output_type": "display_data"
    },
    {
     "name": "stdout",
     "output_type": "stream",
     "text": [
      "[jovian] Updating notebook \"vikthour/python-divide-and-conquer-assignment\" on https://jovian.ai/\n",
      "[jovian] Committed successfully! https://jovian.ai/vikthour/python-divide-and-conquer-assignment\n"
     ]
    },
    {
     "data": {
      "text/plain": [
       "'https://jovian.ai/vikthour/python-divide-and-conquer-assignment'"
      ]
     },
     "execution_count": 40,
     "metadata": {},
     "output_type": "execute_result"
    }
   ],
   "source": [
    "jovian.commit()"
   ]
  },
  {
   "cell_type": "code",
   "execution_count": 41,
   "id": "04d75326",
   "metadata": {},
   "outputs": [],
   "source": [
    "def add(poly1, poly2):\n",
    "    \"\"\"Add two polynomials\"\"\"\n",
    "    result = [0] * max(len(poly1), len(poly2))\n",
    "    for i in range(len(result)):\n",
    "        if i < len(poly1):\n",
    "            result[i] += poly1[i]\n",
    "        if i < len(poly2):\n",
    "            result[i] += poly2[i]\n",
    "    return result"
   ]
  },
  {
   "cell_type": "code",
   "execution_count": 42,
   "id": "e3a7764b",
   "metadata": {},
   "outputs": [
    {
     "data": {
      "text/plain": [
       "[1, 6, 6, 4]"
      ]
     },
     "execution_count": 42,
     "metadata": {},
     "output_type": "execute_result"
    }
   ],
   "source": [
    "add([1, 2, 3, 4], [0, 4, 3])"
   ]
  },
  {
   "cell_type": "code",
   "execution_count": 43,
   "id": "419b50ab",
   "metadata": {},
   "outputs": [],
   "source": [
    "def split(poly1, poly2):\n",
    "    \"\"\"Split each polynomial into two smaller polynomials\"\"\"\n",
    "    mid = max(len(poly1), len(poly2)) // 2\n",
    "    return  (poly1[:mid], poly1[mid:]), (poly2[:mid], poly2[mid:])"
   ]
  },
  {
   "cell_type": "code",
   "execution_count": 44,
   "id": "23d2c795",
   "metadata": {},
   "outputs": [
    {
     "data": {
      "text/plain": [
       "(([1, 2, 3], [4]), ([0, 4, 3], [6, 7, 8, 2]))"
      ]
     },
     "execution_count": 44,
     "metadata": {},
     "output_type": "execute_result"
    }
   ],
   "source": [
    "split([1, 2, 3, 4], [0, 4, 3, 6, 7, 8, 2])"
   ]
  },
  {
   "cell_type": "code",
   "execution_count": 45,
   "id": "91208a32",
   "metadata": {},
   "outputs": [],
   "source": [
    "def increase_exponent(poly, n):\n",
    "    \"\"\"Multiply poly1 by x^n\"\"\"\n",
    "    return [0] * n + poly"
   ]
  },
  {
   "cell_type": "code",
   "execution_count": 46,
   "id": "2e4e5fce",
   "metadata": {},
   "outputs": [
    {
     "data": {
      "text/plain": [
       "[0, 0, 0, 1, 2, 3, 4]"
      ]
     },
     "execution_count": 46,
     "metadata": {},
     "output_type": "execute_result"
    }
   ],
   "source": [
    "increase_exponent([1, 2, 3, 4], 3)"
   ]
  },
  {
   "cell_type": "code",
   "execution_count": 47,
   "id": "56daa452",
   "metadata": {},
   "outputs": [],
   "source": [
    "def multiply_optimized(poly1, poly2):\n",
    "    if (poly1 or poly2) == []:\n",
    "        return []\n",
    "    elif len(poly1) == 1:\n",
    "        return [poly1[0] * poly2[i] for i in range(len(poly2))]\n",
    "    elif len(poly2) == 1:\n",
    "        return [poly2[0] * poly1[i] for i in range(len(poly1))]\n",
    "    elif (max(len(poly1) , len(poly2)) % 2) != 0:\n",
    "        n = (max(len(poly1) , len(poly2)) - 1)\n",
    "        (poly1_0, poly1_1),(poly2_0, poly2_1) = split(poly1, poly2)\n",
    "        print((poly1_0, poly1_1),(poly2_0, poly2_1))\n",
    "        \n",
    "        U = multiply_basic(poly1_0, poly2_0)\n",
    "        V = multiply_basic(poly1_0, poly2_1)\n",
    "        W = multiply_basic(poly1_1, poly2_0)\n",
    "        Z = multiply_basic(poly1_1, poly2_1)\n",
    "        \n",
    "        V_W = add(V, W)\n",
    "        \n",
    "        V_W_exp = increase_exponent(V_W, (n//2))\n",
    "        Z = increase_exponent(Z, n)\n",
    "        result = add(add(U, V_W_exp), Z)\n",
    "        return result\n",
    "    else:\n",
    "        n = (max(len(poly1) , len(poly2)))\n",
    "        (poly1_0, poly1_1),(poly2_0, poly2_1) = split(poly1, poly2)\n",
    "        print((poly1_0, poly1_1),(poly2_0, poly2_1))\n",
    "        \n",
    "        U = multiply_basic(poly1_0, poly2_0)\n",
    "        V = multiply_basic(poly1_0, poly2_1)\n",
    "        W = multiply_basic(poly1_1, poly2_0)\n",
    "        Z = multiply_basic(poly1_1, poly2_1)\n",
    "        \n",
    "        V_W = add(V, W)\n",
    "        \n",
    "        V_W_exp = increase_exponent(V_W, ((n//2)))\n",
    "        Z = increase_exponent(Z, (n))\n",
    "        \n",
    "        result = add(add(U, V_W_exp), Z)\n",
    "        return result"
   ]
  },
  {
   "cell_type": "code",
   "execution_count": 48,
   "id": "b28c8cf5",
   "metadata": {},
   "outputs": [],
   "source": [
    "import jovian"
   ]
  },
  {
   "cell_type": "code",
   "execution_count": 49,
   "id": "4f7219e7",
   "metadata": {},
   "outputs": [
    {
     "data": {
      "application/javascript": [
       "window.require && require([\"base/js/namespace\"],function(Jupyter){Jupyter.notebook.save_checkpoint()})"
      ],
      "text/plain": [
       "<IPython.core.display.Javascript object>"
      ]
     },
     "metadata": {},
     "output_type": "display_data"
    },
    {
     "name": "stdout",
     "output_type": "stream",
     "text": [
      "[jovian] Updating notebook \"vikthour/python-divide-and-conquer-assignment\" on https://jovian.ai/\n",
      "[jovian] Committed successfully! https://jovian.ai/vikthour/python-divide-and-conquer-assignment\n"
     ]
    },
    {
     "data": {
      "text/plain": [
       "'https://jovian.ai/vikthour/python-divide-and-conquer-assignment'"
      ]
     },
     "execution_count": 49,
     "metadata": {},
     "output_type": "execute_result"
    }
   ],
   "source": [
    "jovian.commit()"
   ]
  },
  {
   "cell_type": "code",
   "execution_count": 50,
   "id": "853fbbde",
   "metadata": {},
   "outputs": [
    {
     "name": "stdout",
     "output_type": "stream",
     "text": [
      "Input: [2, 0, 5, 7] [3, 4, 2]\n",
      "Expected output: [6, 8, 19, 41, 38, 14]\n",
      "([2, 0], [5, 7]) ([3, 4], [2])\n",
      "Actual output: [6, 8, 19, 41, 38, 14]\n",
      "Match: True\n"
     ]
    }
   ],
   "source": [
    "poly01, poly02, output0 = test0['input']['poly1'], test0['input']['poly2'], test0['output']\n",
    "print('Input:', poly01, poly02)\n",
    "print('Expected output:', output0)\n",
    "result0 = multiply_optimized(poly01, poly02)\n",
    "print('Actual output:', result0)\n",
    "print('Match:', result0 == output0)"
   ]
  },
  {
   "cell_type": "code",
   "execution_count": 51,
   "id": "9790ad65",
   "metadata": {},
   "outputs": [
    {
     "name": "stdout",
     "output_type": "stream",
     "text": [
      "\n",
      "\u001b[1mTEST CASE #0\u001b[0m\n",
      "\n",
      "Input:\n",
      "{'poly1': [2, 0, 5, 7], 'poly2': [3, 4, 2]}\n",
      "\n",
      "Expected Output:\n",
      "[6, 8, 19, 41, 38, 14]\n",
      "\n",
      "\n",
      "Actual Output:\n",
      "[6, 8, 19, 41, 38, 14]\n",
      "\n",
      "Execution Time:\n",
      "0.058 ms\n",
      "\n",
      "Test Result:\n",
      "\u001b[92mPASSED\u001b[0m\n",
      "\n",
      "\n",
      "\u001b[1mTEST CASE #1\u001b[0m\n",
      "\n",
      "Input:\n",
      "{'poly1': [1, 2, 4], 'poly2': [2, 4]}\n",
      "\n",
      "Expected Output:\n",
      "[2, 8, 16, 16]\n",
      "\n",
      "\n",
      "Actual Output:\n",
      "[2, 8, 16, 16]\n",
      "\n",
      "Execution Time:\n",
      "0.035 ms\n",
      "\n",
      "Test Result:\n",
      "\u001b[92mPASSED\u001b[0m\n",
      "\n",
      "\n",
      "\u001b[1mTEST CASE #2\u001b[0m\n",
      "\n",
      "Input:\n",
      "{'poly1': [2], 'poly2': [4]}\n",
      "\n",
      "Expected Output:\n",
      "[8]\n",
      "\n",
      "\n",
      "Actual Output:\n",
      "[8]\n",
      "\n",
      "Execution Time:\n",
      "0.014 ms\n",
      "\n",
      "Test Result:\n",
      "\u001b[92mPASSED\u001b[0m\n",
      "\n",
      "\n",
      "\u001b[1mTEST CASE #3\u001b[0m\n",
      "\n",
      "Input:\n",
      "{'poly1': [2, 5], 'poly2': [1, 2, 3, 4]}\n",
      "\n",
      "Expected Output:\n",
      "[2, 9, 16, 23, 20]\n",
      "\n",
      "\n",
      "Actual Output:\n",
      "[2, 9, 16, 23, 20]\n",
      "\n",
      "Execution Time:\n",
      "0.029 ms\n",
      "\n",
      "Test Result:\n",
      "\u001b[92mPASSED\u001b[0m\n",
      "\n",
      "\n",
      "\u001b[1mTEST CASE #4\u001b[0m\n",
      "\n",
      "Input:\n",
      "{'poly1': [2, 6], 'poly2': [0, 3]}\n",
      "\n",
      "Expected Output:\n",
      "[0, 6, 18]\n",
      "\n",
      "\n",
      "Actual Output:\n",
      "[0, 6, 18]\n",
      "\n",
      "Execution Time:\n",
      "0.025 ms\n",
      "\n",
      "Test Result:\n",
      "\u001b[92mPASSED\u001b[0m\n",
      "\n",
      "\n",
      "\u001b[1mTEST CASE #5\u001b[0m\n",
      "\n",
      "Input:\n",
      "{'poly1': [0, 5, 0, 6], 'poly2': [1, 3]}\n",
      "\n",
      "Expected Output:\n",
      "[0, 5, 15, 6, 18]\n",
      "\n",
      "\n",
      "Actual Output:\n",
      "[0, 5, 15, 6, 18]\n",
      "\n",
      "Execution Time:\n",
      "0.028 ms\n",
      "\n",
      "Test Result:\n",
      "\u001b[92mPASSED\u001b[0m\n",
      "\n",
      "\n",
      "\u001b[1mTEST CASE #6\u001b[0m\n",
      "\n",
      "Input:\n",
      "{'poly1': [0, 0, 0, 3], 'poly2': [0, 0, 0, 3]}\n",
      "\n",
      "Expected Output:\n",
      "[0, 0, 0, 0, 0, 0, 9]\n",
      "\n",
      "\n",
      "Actual Output:\n",
      "[0, 0, 0, 0, 0, 0, 9]\n",
      "\n",
      "Execution Time:\n",
      "0.071 ms\n",
      "\n",
      "Test Result:\n",
      "\u001b[92mPASSED\u001b[0m\n",
      "\n",
      "\n",
      "\u001b[1mTEST CASE #7\u001b[0m\n",
      "\n",
      "Input:\n",
      "{'poly1': [0, 0, 0, 3], 'poly2': [5, 4, 3, 1]}\n",
      "\n",
      "Expected Output:\n",
      "[0, 0, 0, 15, 12, 9, 3]\n",
      "\n",
      "\n",
      "Actual Output:\n",
      "[0, 0, 0, 15, 12, 9, 3]\n",
      "\n",
      "Execution Time:\n",
      "0.103 ms\n",
      "\n",
      "Test Result:\n",
      "\u001b[92mPASSED\u001b[0m\n",
      "\n",
      "\n",
      "\u001b[1mTEST CASE #8\u001b[0m\n",
      "\n",
      "Input:\n",
      "{'poly1': [2], 'poly2': [0, 6]}\n",
      "\n",
      "Expected Output:\n",
      "[0, 12]\n",
      "\n",
      "\n",
      "Actual Output:\n",
      "[0, 12]\n",
      "\n",
      "Execution Time:\n",
      "0.02 ms\n",
      "\n",
      "Test Result:\n",
      "\u001b[92mPASSED\u001b[0m\n",
      "\n",
      "\n",
      "\u001b[1mTEST CASE #9\u001b[0m\n",
      "\n",
      "Input:\n",
      "{'poly1': [2], 'poly2': [0]}\n",
      "\n",
      "Expected Output:\n",
      "[0]\n",
      "\n",
      "\n",
      "Actual Output:\n",
      "[0]\n",
      "\n",
      "Execution Time:\n",
      "0.012 ms\n",
      "\n",
      "Test Result:\n",
      "\u001b[92mPASSED\u001b[0m\n",
      "\n",
      "\n",
      "\u001b[1mTEST CASE #10\u001b[0m\n",
      "\n",
      "Input:\n",
      "{'poly1': [], 'poly2': []}\n",
      "\n",
      "Expected Output:\n",
      "[]\n",
      "\n",
      "\n",
      "Actual Output:\n",
      "[]\n",
      "\n",
      "Execution Time:\n",
      "0.007 ms\n",
      "\n",
      "Test Result:\n",
      "\u001b[92mPASSED\u001b[0m\n",
      "\n",
      "\n",
      "\u001b[1mTEST CASE #11\u001b[0m\n",
      "\n",
      "Input:\n",
      "{'poly1': [0], 'poly2': [0]}\n",
      "\n",
      "Expected Output:\n",
      "[0]\n",
      "\n",
      "\n",
      "Actual Output:\n",
      "[0]\n",
      "\n",
      "Execution Time:\n",
      "0.012 ms\n",
      "\n",
      "Test Result:\n",
      "\u001b[92mPASSED\u001b[0m\n",
      "\n",
      "\n",
      "\u001b[1mSUMMARY\u001b[0m\n",
      "\n",
      "TOTAL: 12, \u001b[92mPASSED\u001b[0m: 12, \u001b[91mFAILED\u001b[0m: 0\n"
     ]
    }
   ],
   "source": [
    "results = evaluate_test_cases(multiply_basic, tests)"
   ]
  },
  {
   "cell_type": "code",
   "execution_count": 52,
   "id": "f3be51b0",
   "metadata": {},
   "outputs": [],
   "source": [
    "import jovian"
   ]
  },
  {
   "cell_type": "code",
   "execution_count": 53,
   "id": "618cb755",
   "metadata": {},
   "outputs": [
    {
     "data": {
      "application/javascript": [
       "window.require && require([\"base/js/namespace\"],function(Jupyter){Jupyter.notebook.save_checkpoint()})"
      ],
      "text/plain": [
       "<IPython.core.display.Javascript object>"
      ]
     },
     "metadata": {},
     "output_type": "display_data"
    },
    {
     "name": "stdout",
     "output_type": "stream",
     "text": [
      "[jovian] Updating notebook \"vikthour/python-divide-and-conquer-assignment\" on https://jovian.ai/\n",
      "[jovian] Committed successfully! https://jovian.ai/vikthour/python-divide-and-conquer-assignment\n"
     ]
    },
    {
     "data": {
      "text/plain": [
       "'https://jovian.ai/vikthour/python-divide-and-conquer-assignment'"
      ]
     },
     "execution_count": 53,
     "metadata": {},
     "output_type": "execute_result"
    }
   ],
   "source": [
    "jovian.commit()"
   ]
  },
  {
   "cell_type": "code",
   "execution_count": 54,
   "id": "39872086",
   "metadata": {},
   "outputs": [
    {
     "data": {
      "application/javascript": [
       "window.require && require([\"base/js/namespace\"],function(Jupyter){Jupyter.notebook.save_checkpoint()})"
      ],
      "text/plain": [
       "<IPython.core.display.Javascript object>"
      ]
     },
     "metadata": {},
     "output_type": "display_data"
    },
    {
     "name": "stdout",
     "output_type": "stream",
     "text": [
      "[jovian] Updating notebook \"vikthour/python-divide-and-conquer-assignment\" on https://jovian.ai/\n",
      "[jovian] Committed successfully! https://jovian.ai/vikthour/python-divide-and-conquer-assignment\n",
      "[jovian] Submitting assignment..\n",
      "[jovian] Verify your submission at https://jovian.ai/learn/data-structures-and-algorithms-in-python/assignment/assignment-3-sorting-and-divide-conquer-practice\n"
     ]
    }
   ],
   "source": [
    "jovian.submit(assignment=\"pythondsa-assignment3\")"
   ]
  },
  {
   "cell_type": "code",
   "execution_count": null,
   "id": "16f684b4",
   "metadata": {},
   "outputs": [],
   "source": []
  },
  {
   "cell_type": "code",
   "execution_count": null,
   "id": "c16e6bea",
   "metadata": {},
   "outputs": [],
   "source": []
  }
 ],
 "metadata": {
  "kernelspec": {
   "display_name": "Python 3",
   "language": "python",
   "name": "python3"
  },
  "language_info": {
   "codemirror_mode": {
    "name": "ipython",
    "version": 3
   },
   "file_extension": ".py",
   "mimetype": "text/x-python",
   "name": "python",
   "nbconvert_exporter": "python",
   "pygments_lexer": "ipython3",
   "version": "3.8.8"
  }
 },
 "nbformat": 4,
 "nbformat_minor": 5
}
