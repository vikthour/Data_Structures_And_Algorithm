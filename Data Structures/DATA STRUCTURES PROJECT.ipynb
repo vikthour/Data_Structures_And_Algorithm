{
 "cells": [
  {
   "cell_type": "code",
   "execution_count": 1,
   "id": "33fe3d87",
   "metadata": {},
   "outputs": [],
   "source": [
    "project_name = 'rotated_list'"
   ]
  },
  {
   "cell_type": "code",
   "execution_count": 2,
   "id": "36cfc2a2",
   "metadata": {},
   "outputs": [],
   "source": [
    "!pip install jovian --upgrade --quiet"
   ]
  },
  {
   "cell_type": "code",
   "execution_count": 3,
   "id": "c0cf920d",
   "metadata": {},
   "outputs": [],
   "source": [
    "import jovian\n",
    "import pandas as pd"
   ]
  },
  {
   "cell_type": "code",
   "execution_count": 4,
   "id": "72879068",
   "metadata": {},
   "outputs": [
    {
     "data": {
      "application/javascript": [
       "window.require && require([\"base/js/namespace\"],function(Jupyter){Jupyter.notebook.save_checkpoint()})"
      ],
      "text/plain": [
       "<IPython.core.display.Javascript object>"
      ]
     },
     "metadata": {},
     "output_type": "display_data"
    },
    {
     "name": "stdout",
     "output_type": "stream",
     "text": [
      "[jovian] Updating notebook \"vikthour/rotated-list\" on https://jovian.ai/\n",
      "[jovian] Committed successfully! https://jovian.ai/vikthour/rotated-list\n"
     ]
    },
    {
     "data": {
      "text/plain": [
       "'https://jovian.ai/vikthour/rotated-list'"
      ]
     },
     "execution_count": 4,
     "metadata": {},
     "output_type": "execute_result"
    }
   ],
   "source": [
    "jovian.commit(project=project_name)"
   ]
  },
  {
   "cell_type": "markdown",
   "id": "f095159d",
   "metadata": {},
   "source": [
    "## Problem Statement\n",
    "\n",
    "\n",
    "> Given a singly linked list, rotate the linked list counter-clockwise by k nodes. Where k is a given positive integer. For example, if the given linked list is 10->20->30->40->50->60 and k is 4, the list should be modified to 50->60->10->20->30->40. Assume that k is smaller than the count of nodes in a linked list.\n",
    "\n",
    "\n",
    "Source: https://www.geeksforgeeks.org/rotate-a-linked-list/"
   ]
  },
  {
   "cell_type": "markdown",
   "id": "9f0f46a9",
   "metadata": {},
   "source": [
    "## The Method\n",
    "\n",
    "Here's the systematic strategy we'll apply for solving problems:\n",
    "\n",
    "1. State the problem clearly. Identify the input & output formats.\n",
    "2. Come up with some example inputs & outputs. Try to cover all edge cases.\n",
    "3. Come up with a correct solution for the problem. State it in plain English.\n",
    "4. Implement the solution and test it using example inputs. Fix bugs, if any.\n",
    "5. Analyze the algorithm's complexity and identify inefficiencies, if any.\n",
    "6. Apply the right technique to overcome the inefficiency. Repeat steps 3 to 6.\n",
    "\n",
    "This approach is explained in detail in [Lesson 1](https://jovian.ai/learn/data-structures-and-algorithms-in-python/lesson/lesson-1-binary-search-linked-lists-and-complexity) of the course. Let's apply this approach step-by-step."
   ]
  },
  {
   "cell_type": "code",
   "execution_count": 5,
   "id": "68a1169f",
   "metadata": {},
   "outputs": [],
   "source": [
    "def rotate_list(number_feed, k):\n",
    "    pass"
   ]
  },
  {
   "cell_type": "code",
   "execution_count": 6,
   "id": "a9bc53e4",
   "metadata": {},
   "outputs": [],
   "source": [
    "import jovian\n",
    "import numpy as np"
   ]
  },
  {
   "cell_type": "code",
   "execution_count": 7,
   "id": "f22d841e",
   "metadata": {},
   "outputs": [
    {
     "data": {
      "application/javascript": [
       "window.require && require([\"base/js/namespace\"],function(Jupyter){Jupyter.notebook.save_checkpoint()})"
      ],
      "text/plain": [
       "<IPython.core.display.Javascript object>"
      ]
     },
     "metadata": {},
     "output_type": "display_data"
    },
    {
     "name": "stdout",
     "output_type": "stream",
     "text": [
      "[jovian] Updating notebook \"vikthour/rotated-list\" on https://jovian.ai/\n",
      "[jovian] Committed successfully! https://jovian.ai/vikthour/rotated-list\n"
     ]
    },
    {
     "data": {
      "text/plain": [
       "'https://jovian.ai/vikthour/rotated-list'"
      ]
     },
     "execution_count": 7,
     "metadata": {},
     "output_type": "execute_result"
    }
   ],
   "source": [
    "jovian.commit()"
   ]
  },
  {
   "cell_type": "markdown",
   "id": "e2a6586f",
   "metadata": {},
   "source": [
    "### 2. Come up with some example inputs & outputs. Try to cover all edge cases.\n",
    "\n",
    "Our function should be able to handle any set of valid inputs we pass into it. Here's a list of some possible variations we might encounter:\n",
    "\n",
    "1. List of 6 elements rotated 5 times\n",
    "2. List with one element\n",
    "3. List of 4 elements rotated 2 times\n",
    "4. List of 7 elements rotated 7 times\n",
    "5. An empty list.\n",
    "6. A list of 2 elements rotated once.\n",
    "7. A list rotated zero times\n",
    "\n",
    "\n",
    "We'll express our test cases as dictionaries, to test them easily. Each dictionary will contain 2 keys: `input` (a dictionary itself containing one key for each argument to the function and `output` (the expected result from the function). "
   ]
  },
  {
   "cell_type": "code",
   "execution_count": 8,
   "id": "9fa420c3",
   "metadata": {},
   "outputs": [],
   "source": [
    "test = {\n",
    "    'input': {\n",
    "        'number_feed': [0, 10, 20, 30, 40, 50],\n",
    "        'k': 5\n",
    "    },\n",
    "    'output': [50, 0, 10, 20, 30, 40]\n",
    "}"
   ]
  },
  {
   "cell_type": "code",
   "execution_count": 9,
   "id": "11d2f800",
   "metadata": {},
   "outputs": [],
   "source": [
    "tests = []"
   ]
  },
  {
   "cell_type": "code",
   "execution_count": 10,
   "id": "2679aa35",
   "metadata": {},
   "outputs": [],
   "source": [
    "tests.append(test)"
   ]
  },
  {
   "cell_type": "code",
   "execution_count": 11,
   "id": "26275d86",
   "metadata": {},
   "outputs": [],
   "source": [
    "tests.append({\n",
    "    'input': {\n",
    "        'number_feed': [20],\n",
    "        'k': 3\n",
    "    },\n",
    "    'output': [20]\n",
    "})"
   ]
  },
  {
   "cell_type": "code",
   "execution_count": 12,
   "id": "c5ee3ada",
   "metadata": {},
   "outputs": [],
   "source": [
    "tests.append({\n",
    "    'input': {\n",
    "        'number_feed': [101, 201, 301, 401],\n",
    "        'k': 2\n",
    "    },\n",
    "    'output': [301, 401, 101, 201]\n",
    "})"
   ]
  },
  {
   "cell_type": "code",
   "execution_count": 13,
   "id": "d4b84cfc",
   "metadata": {},
   "outputs": [],
   "source": [
    "tests.append({\n",
    "    'input': {\n",
    "        'number_feed': [15, 30, 45, 60, 75, 90],\n",
    "        'k': 6\n",
    "    },\n",
    "    'output': [15, 30, 45, 60, 75, 90]\n",
    "})"
   ]
  },
  {
   "cell_type": "code",
   "execution_count": 14,
   "id": "5c928573",
   "metadata": {},
   "outputs": [],
   "source": [
    "tests.append({\n",
    "    'input': {\n",
    "        'number_feed': [],\n",
    "        'k': 5\n",
    "    },\n",
    "    'output': []\n",
    "})"
   ]
  },
  {
   "cell_type": "code",
   "execution_count": 15,
   "id": "5c4d6d63",
   "metadata": {},
   "outputs": [],
   "source": [
    "tests.append({\n",
    "    'input': {\n",
    "        'number_feed': [30, 40],\n",
    "        'k': 1\n",
    "    },\n",
    "    'output': [40, 30]\n",
    "})"
   ]
  },
  {
   "cell_type": "code",
   "execution_count": 16,
   "id": "63f59a5a",
   "metadata": {},
   "outputs": [],
   "source": [
    "tests.append({\n",
    "    'input': {\n",
    "        'number_feed': [0, 10, 20, 30, 40, 50],\n",
    "        'k': 0\n",
    "    },\n",
    "    'output': [0, 10, 20, 30, 40, 50]\n",
    "})"
   ]
  },
  {
   "cell_type": "code",
   "execution_count": 17,
   "id": "f4edad1d",
   "metadata": {},
   "outputs": [],
   "source": [
    "tests.append({\n",
    "    'input': {\n",
    "        'number_feed': [0, 10, 20, 30, 40, 50],\n",
    "        'k': 16\n",
    "    },\n",
    "    'output': [40, 50, 0, 10, 20, 30]\n",
    "})"
   ]
  },
  {
   "cell_type": "code",
   "execution_count": 18,
   "id": "391c1594",
   "metadata": {},
   "outputs": [
    {
     "data": {
      "text/plain": [
       "[{'input': {'number_feed': [0, 10, 20, 30, 40, 50], 'k': 5},\n",
       "  'output': [50, 0, 10, 20, 30, 40]},\n",
       " {'input': {'number_feed': [20], 'k': 3}, 'output': [20]},\n",
       " {'input': {'number_feed': [101, 201, 301, 401], 'k': 2},\n",
       "  'output': [301, 401, 101, 201]},\n",
       " {'input': {'number_feed': [15, 30, 45, 60, 75, 90], 'k': 6},\n",
       "  'output': [15, 30, 45, 60, 75, 90]},\n",
       " {'input': {'number_feed': [], 'k': 5}, 'output': []},\n",
       " {'input': {'number_feed': [30, 40], 'k': 1}, 'output': [40, 30]},\n",
       " {'input': {'number_feed': [0, 10, 20, 30, 40, 50], 'k': 0},\n",
       "  'output': [0, 10, 20, 30, 40, 50]},\n",
       " {'input': {'number_feed': [0, 10, 20, 30, 40, 50], 'k': 16},\n",
       "  'output': [40, 50, 0, 10, 20, 30]}]"
      ]
     },
     "execution_count": 18,
     "metadata": {},
     "output_type": "execute_result"
    }
   ],
   "source": [
    "tests"
   ]
  },
  {
   "cell_type": "code",
   "execution_count": 19,
   "id": "467d7856",
   "metadata": {},
   "outputs": [
    {
     "data": {
      "application/javascript": [
       "window.require && require([\"base/js/namespace\"],function(Jupyter){Jupyter.notebook.save_checkpoint()})"
      ],
      "text/plain": [
       "<IPython.core.display.Javascript object>"
      ]
     },
     "metadata": {},
     "output_type": "display_data"
    },
    {
     "name": "stdout",
     "output_type": "stream",
     "text": [
      "[jovian] Updating notebook \"vikthour/rotated-list\" on https://jovian.ai/\n",
      "[jovian] Committed successfully! https://jovian.ai/vikthour/rotated-list\n"
     ]
    },
    {
     "data": {
      "text/plain": [
       "'https://jovian.ai/vikthour/rotated-list'"
      ]
     },
     "execution_count": 19,
     "metadata": {},
     "output_type": "execute_result"
    }
   ],
   "source": [
    "jovian.commit()"
   ]
  },
  {
   "cell_type": "code",
   "execution_count": null,
   "id": "d86b70c7",
   "metadata": {},
   "outputs": [],
   "source": []
  },
  {
   "cell_type": "markdown",
   "id": "09c08f97",
   "metadata": {},
   "source": [
    "### 3. Come up with a correct solution for the problem. State it in plain English.\n",
    "\n",
    "Our first goal should always be to come up with a _correct_ solution to the problem, which may not necessarily be the most _efficient_ solution. Come with a correct solution and explain it in simple words below:\n",
    "\n",
    "1. Check if the list is not empty\n",
    "2. If the list has one element, return the list\n",
    "3. If the list has more than one element and it's to be rotated n times, shift all the figures from n to the last into the first position while the first figure to n behind the first set."
   ]
  },
  {
   "cell_type": "code",
   "execution_count": 21,
   "id": "9dac995d",
   "metadata": {},
   "outputs": [
    {
     "data": {
      "application/javascript": [
       "window.require && require([\"base/js/namespace\"],function(Jupyter){Jupyter.notebook.save_checkpoint()})"
      ],
      "text/plain": [
       "<IPython.core.display.Javascript object>"
      ]
     },
     "metadata": {},
     "output_type": "display_data"
    },
    {
     "name": "stdout",
     "output_type": "stream",
     "text": [
      "[jovian] Updating notebook \"vikthour/rotated-list\" on https://jovian.ai/\n",
      "[jovian] Committed successfully! https://jovian.ai/vikthour/rotated-list\n"
     ]
    },
    {
     "data": {
      "text/plain": [
       "'https://jovian.ai/vikthour/rotated-list'"
      ]
     },
     "execution_count": 21,
     "metadata": {},
     "output_type": "execute_result"
    }
   ],
   "source": [
    "jovian.commit()"
   ]
  },
  {
   "cell_type": "markdown",
   "id": "9bcfd773",
   "metadata": {},
   "source": [
    "###  4. Implement the solution and test it using example inputs. Fix bugs, if any."
   ]
  },
  {
   "cell_type": "code",
   "execution_count": 22,
   "id": "e21b913b",
   "metadata": {},
   "outputs": [],
   "source": [
    "def rotate_list_optimized(number_feed, k):\n",
    "    if number_feed == []:\n",
    "        return []\n",
    "    elif k > len(number_feed):\n",
    "        result = []\n",
    "        r_times = k % len(number_feed)\n",
    "        lists_a = number_feed[r_times:]\n",
    "        print(lists_a)\n",
    "        lists_b = number_feed[:r_times]\n",
    "        print(lists_b)\n",
    "        listed = lists_a + lists_b\n",
    "        return listed\n",
    "    else:\n",
    "        lists_a = number_feed[k:]\n",
    "        print(lists_a)\n",
    "        lists_b = number_feed[:k]\n",
    "        print(lists_b)\n",
    "        listed = lists_a + lists_b\n",
    "        return listed"
   ]
  },
  {
   "cell_type": "code",
   "execution_count": 23,
   "id": "795a48a7",
   "metadata": {},
   "outputs": [],
   "source": [
    "from jovian.pythondsa import evaluate_test_case"
   ]
  },
  {
   "cell_type": "code",
   "execution_count": 24,
   "id": "8b51de5f",
   "metadata": {
    "scrolled": true
   },
   "outputs": [
    {
     "name": "stdout",
     "output_type": "stream",
     "text": [
      "Input: [0, 10, 20, 30, 40, 50] 5\n",
      "Expected output: [50, 0, 10, 20, 30, 40]\n",
      "[50]\n",
      "[0, 10, 20, 30, 40]\n",
      "Actual output: [50, 0, 10, 20, 30, 40]\n",
      "Match: True\n"
     ]
    }
   ],
   "source": [
    "number_feed, k, output0 = test['input']['number_feed'], test['input']['k'], test['output']\n",
    "print('Input:', number_feed, k)\n",
    "print('Expected output:', output0)\n",
    "result0 = rotate_list_optimized(number_feed, k)\n",
    "print('Actual output:', result0)\n",
    "print('Match:', result0 == output0)"
   ]
  },
  {
   "cell_type": "code",
   "execution_count": 25,
   "id": "d9264197",
   "metadata": {},
   "outputs": [],
   "source": [
    "test9 = {\n",
    "    'input': {\n",
    "        'number_feed': [0, 10, 20, 30, 40, 50],\n",
    "        'k': 16\n",
    "    },\n",
    "    'output': [20, 30, 40, 50, 0, 10]\n",
    "}"
   ]
  },
  {
   "cell_type": "code",
   "execution_count": 26,
   "id": "af2a64cb",
   "metadata": {},
   "outputs": [
    {
     "name": "stdout",
     "output_type": "stream",
     "text": [
      "Input: [0, 10, 20, 30, 40, 50] 16\n",
      "Expected output: [20, 30, 40, 50, 0, 10]\n",
      "[40, 50]\n",
      "[0, 10, 20, 30]\n",
      "Actual output: [40, 50, 0, 10, 20, 30]\n",
      "Match: False\n"
     ]
    }
   ],
   "source": [
    "number_feed, k, output0 = test9['input']['number_feed'], test9['input']['k'], test9['output']\n",
    "print('Input:', number_feed, k)\n",
    "print('Expected output:', output0)\n",
    "result0 = rotate_list_optimized(number_feed, k)\n",
    "print('Actual output:', result0)\n",
    "print('Match:', result0 == output0)"
   ]
  },
  {
   "cell_type": "code",
   "execution_count": 27,
   "id": "a8f2cf47",
   "metadata": {},
   "outputs": [],
   "source": [
    "from jovian.pythondsa import evaluate_test_cases"
   ]
  },
  {
   "cell_type": "code",
   "execution_count": 28,
   "id": "430e6cac",
   "metadata": {
    "scrolled": true
   },
   "outputs": [
    {
     "name": "stdout",
     "output_type": "stream",
     "text": [
      "\n",
      "\u001b[1mTEST CASE #0\u001b[0m\n",
      "[50]\n",
      "[0, 10, 20, 30, 40]\n",
      "\n",
      "Input:\n",
      "{'number_feed': [0, 10, 20, 30, 40, 50], 'k': 5}\n",
      "\n",
      "Expected Output:\n",
      "[50, 0, 10, 20, 30, 40]\n",
      "\n",
      "\n",
      "Actual Output:\n",
      "[50, 0, 10, 20, 30, 40]\n",
      "\n",
      "Execution Time:\n",
      "1.392 ms\n",
      "\n",
      "Test Result:\n",
      "\u001b[92mPASSED\u001b[0m\n",
      "\n",
      "\n",
      "\u001b[1mTEST CASE #1\u001b[0m\n",
      "[20]\n",
      "[]\n",
      "\n",
      "Input:\n",
      "{'number_feed': [20], 'k': 3}\n",
      "\n",
      "Expected Output:\n",
      "[20]\n",
      "\n",
      "\n",
      "Actual Output:\n",
      "[20]\n",
      "\n",
      "Execution Time:\n",
      "0.121 ms\n",
      "\n",
      "Test Result:\n",
      "\u001b[92mPASSED\u001b[0m\n",
      "\n",
      "\n",
      "\u001b[1mTEST CASE #2\u001b[0m\n",
      "[301, 401]\n",
      "[101, 201]\n",
      "\n",
      "Input:\n",
      "{'number_feed': [101, 201, 301, 401], 'k': 2}\n",
      "\n",
      "Expected Output:\n",
      "[301, 401, 101, 201]\n",
      "\n",
      "\n",
      "Actual Output:\n",
      "[301, 401, 101, 201]\n",
      "\n",
      "Execution Time:\n",
      "4.527 ms\n",
      "\n",
      "Test Result:\n",
      "\u001b[92mPASSED\u001b[0m\n",
      "\n",
      "\n",
      "\u001b[1mTEST CASE #3\u001b[0m\n",
      "[]\n",
      "[15, 30, 45, 60, 75, 90]\n",
      "\n",
      "Input:\n",
      "{'number_feed': [15, 30, 45, 60, 75, 90], 'k': 6}\n",
      "\n",
      "Expected Output:\n",
      "[15, 30, 45, 60, 75, 90]\n",
      "\n",
      "\n",
      "Actual Output:\n",
      "[15, 30, 45, 60, 75, 90]\n",
      "\n",
      "Execution Time:\n",
      "0.324 ms\n",
      "\n",
      "Test Result:\n",
      "\u001b[92mPASSED\u001b[0m\n",
      "\n",
      "\n",
      "\u001b[1mTEST CASE #4\u001b[0m\n",
      "\n",
      "Input:\n",
      "{'number_feed': [], 'k': 5}\n",
      "\n",
      "Expected Output:\n",
      "[]\n",
      "\n",
      "\n",
      "Actual Output:\n",
      "[]\n",
      "\n",
      "Execution Time:\n",
      "0.008 ms\n",
      "\n",
      "Test Result:\n",
      "\u001b[92mPASSED\u001b[0m\n",
      "\n",
      "\n",
      "\u001b[1mTEST CASE #5\u001b[0m\n",
      "[40]\n",
      "[30]\n",
      "\n",
      "Input:\n",
      "{'number_feed': [30, 40], 'k': 1}\n",
      "\n",
      "Expected Output:\n",
      "[40, 30]\n",
      "\n",
      "\n",
      "Actual Output:\n",
      "[40, 30]\n",
      "\n",
      "Execution Time:\n",
      "0.331 ms\n",
      "\n",
      "Test Result:\n",
      "\u001b[92mPASSED\u001b[0m\n",
      "\n",
      "\n",
      "\u001b[1mTEST CASE #6\u001b[0m\n",
      "[0, 10, 20, 30, 40, 50]\n",
      "[]\n",
      "\n",
      "Input:\n",
      "{'number_feed': [0, 10, 20, 30, 40, 50], 'k': 0}\n",
      "\n",
      "Expected Output:\n",
      "[0, 10, 20, 30, 40, 50]\n",
      "\n",
      "\n",
      "Actual Output:\n",
      "[0, 10, 20, 30, 40, 50]\n",
      "\n",
      "Execution Time:\n",
      "0.315 ms\n",
      "\n",
      "Test Result:\n",
      "\u001b[92mPASSED\u001b[0m\n",
      "\n",
      "\n",
      "\u001b[1mTEST CASE #7\u001b[0m\n",
      "[40, 50]\n",
      "[0, 10, 20, 30]\n",
      "\n",
      "Input:\n",
      "{'number_feed': [0, 10, 20, 30, 40, 50], 'k': 16}\n",
      "\n",
      "Expected Output:\n",
      "[40, 50, 0, 10, 20, 30]\n",
      "\n",
      "\n",
      "Actual Output:\n",
      "[40, 50, 0, 10, 20, 30]\n",
      "\n",
      "Execution Time:\n",
      "0.32 ms\n",
      "\n",
      "Test Result:\n",
      "\u001b[92mPASSED\u001b[0m\n",
      "\n",
      "\n",
      "\u001b[1mSUMMARY\u001b[0m\n",
      "\n",
      "TOTAL: 8, \u001b[92mPASSED\u001b[0m: 8, \u001b[91mFAILED\u001b[0m: 0\n"
     ]
    }
   ],
   "source": [
    "results = evaluate_test_cases(rotate_list_optimized, tests)"
   ]
  },
  {
   "cell_type": "code",
   "execution_count": null,
   "id": "292c3204",
   "metadata": {},
   "outputs": [],
   "source": []
  },
  {
   "cell_type": "code",
   "execution_count": 29,
   "id": "429080be",
   "metadata": {},
   "outputs": [
    {
     "data": {
      "application/javascript": [
       "window.require && require([\"base/js/namespace\"],function(Jupyter){Jupyter.notebook.save_checkpoint()})"
      ],
      "text/plain": [
       "<IPython.core.display.Javascript object>"
      ]
     },
     "metadata": {},
     "output_type": "display_data"
    },
    {
     "name": "stdout",
     "output_type": "stream",
     "text": [
      "[jovian] Updating notebook \"vikthour/rotated-list\" on https://jovian.ai/\n",
      "[jovian] Committed successfully! https://jovian.ai/vikthour/rotated-list\n"
     ]
    },
    {
     "data": {
      "text/plain": [
       "'https://jovian.ai/vikthour/rotated-list'"
      ]
     },
     "execution_count": 29,
     "metadata": {},
     "output_type": "execute_result"
    }
   ],
   "source": [
    "jovian.commit()"
   ]
  },
  {
   "cell_type": "markdown",
   "id": "7ea826ff",
   "metadata": {},
   "source": [
    "### 5. Analyze the algorithm's complexity and identify inefficiencies, if any."
   ]
  },
  {
   "cell_type": "code",
   "execution_count": 30,
   "id": "66cfc772",
   "metadata": {},
   "outputs": [],
   "source": [
    "rotate_list_time_complexity = 'O(n)'"
   ]
  },
  {
   "cell_type": "code",
   "execution_count": 31,
   "id": "ebc9e7ac",
   "metadata": {},
   "outputs": [],
   "source": [
    "rotate_list_space_complexity = 'O(n)'"
   ]
  },
  {
   "cell_type": "code",
   "execution_count": 32,
   "id": "d2fb5b7b",
   "metadata": {},
   "outputs": [
    {
     "data": {
      "application/javascript": [
       "window.require && require([\"base/js/namespace\"],function(Jupyter){Jupyter.notebook.save_checkpoint()})"
      ],
      "text/plain": [
       "<IPython.core.display.Javascript object>"
      ]
     },
     "metadata": {},
     "output_type": "display_data"
    },
    {
     "name": "stdout",
     "output_type": "stream",
     "text": [
      "[jovian] Updating notebook \"vikthour/rotated-list\" on https://jovian.ai/\n",
      "[jovian] Committed successfully! https://jovian.ai/vikthour/rotated-list\n"
     ]
    },
    {
     "data": {
      "text/plain": [
       "'https://jovian.ai/vikthour/rotated-list'"
      ]
     },
     "execution_count": 32,
     "metadata": {},
     "output_type": "execute_result"
    }
   ],
   "source": [
    "jovian.commit()"
   ]
  },
  {
   "cell_type": "code",
   "execution_count": null,
   "id": "629bc048",
   "metadata": {},
   "outputs": [],
   "source": []
  },
  {
   "cell_type": "code",
   "execution_count": 33,
   "id": "9ebae641",
   "metadata": {},
   "outputs": [
    {
     "data": {
      "application/javascript": [
       "window.require && require([\"base/js/namespace\"],function(Jupyter){Jupyter.notebook.save_checkpoint()})"
      ],
      "text/plain": [
       "<IPython.core.display.Javascript object>"
      ]
     },
     "metadata": {},
     "output_type": "display_data"
    },
    {
     "name": "stdout",
     "output_type": "stream",
     "text": [
      "[jovian] Updating notebook \"vikthour/rotated-list\" on https://jovian.ai/\n",
      "[jovian] Committed successfully! https://jovian.ai/vikthour/rotated-list\n"
     ]
    },
    {
     "data": {
      "text/plain": [
       "'https://jovian.ai/vikthour/rotated-list'"
      ]
     },
     "execution_count": 33,
     "metadata": {},
     "output_type": "execute_result"
    }
   ],
   "source": [
    "jovian.commit()"
   ]
  },
  {
   "cell_type": "markdown",
   "id": "12a803cb",
   "metadata": {},
   "source": [
    "### 7. Come up with a correct solution for the problem. State it in plain English.\n",
    "\n",
    "Come with the optimized correct solution and explain it in simple words below:\n",
    "\n",
    "1. **???**\n",
    "2. **???**\n",
    "3. **???**\n",
    "4. **???**\n",
    "5. **???**\n",
    "\n",
    "(add more steps if required)\n",
    "\n",
    "\n",
    "Let's save and upload our work before continuing.\n"
   ]
  },
  {
   "cell_type": "code",
   "execution_count": 34,
   "id": "bb2fe990",
   "metadata": {},
   "outputs": [
    {
     "data": {
      "application/javascript": [
       "window.require && require([\"base/js/namespace\"],function(Jupyter){Jupyter.notebook.save_checkpoint()})"
      ],
      "text/plain": [
       "<IPython.core.display.Javascript object>"
      ]
     },
     "metadata": {},
     "output_type": "display_data"
    },
    {
     "name": "stdout",
     "output_type": "stream",
     "text": [
      "[jovian] Updating notebook \"vikthour/rotated-list\" on https://jovian.ai/\n",
      "[jovian] Committed successfully! https://jovian.ai/vikthour/rotated-list\n"
     ]
    },
    {
     "data": {
      "text/plain": [
       "'https://jovian.ai/vikthour/rotated-list'"
      ]
     },
     "execution_count": 34,
     "metadata": {},
     "output_type": "execute_result"
    }
   ],
   "source": [
    "jovian.commit()"
   ]
  },
  {
   "cell_type": "markdown",
   "id": "34eeb041",
   "metadata": {},
   "source": [
    "### 8. Implement the solution and test it using example inputs. Fix bugs, if any."
   ]
  },
  {
   "cell_type": "markdown",
   "id": "6ee7f650",
   "metadata": {},
   "source": [
    "class Node:\n",
    "    def __init__(self):\n",
    "        self.data = 0\n",
    "        self.next = None\n",
    "\n",
    "    # This function rotates a linked list\n",
    "    # counter-clockwise and updates the\n",
    "    # head. The function assumes that k is\n",
    "    # smaller than size of linked list.\n",
    "    def rotate(number_feed, k):\n",
    "        if number_feed == []:\n",
    "            return []\n",
    "        if (k == 0):\n",
    "            return number_feed\n",
    "\n",
    "        # Let us understand the below\n",
    "        # code for example k = 4 and\n",
    "        # list = 10.20.30.40.50.60.\n",
    "        present = number_feed\n",
    "\n",
    "        # Traverse till the end.\n",
    "        while (present.next != None):\n",
    "            present = present.next\n",
    "\n",
    "            present.next = number_feed\n",
    "            present = number_feed\n",
    "\n",
    "        # Traverse the linked list to k-1\n",
    "        # position which will be last element\n",
    "        # for rotated array.\n",
    "        for i in range(k - 1):\n",
    "            present = present.next\n",
    "            # Update the head_ref and last\n",
    "            # element pointer to None\n",
    "            number_feed = present.next\n",
    "            present.next = None\n",
    "            return number_feed\n",
    "\n",
    "        # UTILITY FUNCTIONS\n",
    "        # Function to push a node\n",
    "    def move_node(number_feed, new_data):\n",
    "\n",
    "        # Allocate node\n",
    "        new_node = Node()\n",
    "\n",
    "        # Put in the data\n",
    "        new_node.data = new_data\n",
    "\n",
    "        # Link the old list off\n",
    "        # the new node\n",
    "        new_node.next = (number_feed)\n",
    "\n",
    "        # Move the head to point\n",
    "        # to the new node\n",
    "        (number_feed) = new_node\n",
    "        return number_feed\n",
    "\n",
    "    # Function to print linked list\n",
    "    def printList(node):\n",
    "\n",
    "        while (node != None):\n",
    "            print(node.data, end = ' ')\n",
    "            node = node.next\n",
    "\n",
    "    # Driver code\n",
    "        if __name__=='__main__':\n",
    "        # Start with the empty list\n",
    "            head = None\n",
    "\n",
    "            # Create a list 10.20.30.40.50.60\n",
    "            for i in range(60, 0, -10):\n",
    "                head = push(head, i)\n",
    "\n",
    "            print(\"Given linked list \")\n",
    "            printList(head)\n",
    "            head = rotate(head, 4)\n",
    "\n",
    "            print(\"\\nRotated Linked list \")\n",
    "            printList(head)"
   ]
  },
  {
   "cell_type": "code",
   "execution_count": 35,
   "id": "782fd919",
   "metadata": {},
   "outputs": [],
   "source": [
    "def rotate_optimized(number_feed, k):\n",
    "    if len(number_feed) <= 0:\n",
    "        return number_feed\n",
    "    elif (k == 0) or (k % len(number_feed) == 0):\n",
    "        return number_feed\n",
    "    elif (k <= len(number_feed)):\n",
    "        first_set = number_feed[(k - len(number_feed)):]\n",
    "        rotating = []\n",
    "        for num in range(k):\n",
    "            rotating.append(number_feed[num])\n",
    "            print(rotating)\n",
    "            print(first_set)\n",
    "        return first_set + rotating\n",
    "    else:\n",
    "        locator = k % len(number_feed)\n",
    "        first_set = number_feed[locator:]\n",
    "        print(first_set)\n",
    "        rotating = []\n",
    "        for num in range(locator):\n",
    "            rotating.append(number_feed[num])\n",
    "            print(rotating)\n",
    "        return first_set + rotating"
   ]
  },
  {
   "cell_type": "code",
   "execution_count": 36,
   "id": "dd6778f2",
   "metadata": {
    "scrolled": true
   },
   "outputs": [
    {
     "name": "stdout",
     "output_type": "stream",
     "text": [
      "Input: [0, 10, 20, 30, 40, 50] 5\n",
      "Expected output: [50, 0, 10, 20, 30, 40]\n",
      "[0]\n",
      "[50]\n",
      "[0, 10]\n",
      "[50]\n",
      "[0, 10, 20]\n",
      "[50]\n",
      "[0, 10, 20, 30]\n",
      "[50]\n",
      "[0, 10, 20, 30, 40]\n",
      "[50]\n",
      "Actual output: [50, 0, 10, 20, 30, 40]\n",
      "Match: True\n"
     ]
    }
   ],
   "source": [
    "number_feed, k, output0 = test['input']['number_feed'], test['input']['k'], test['output']\n",
    "print('Input:', number_feed, k)\n",
    "print('Expected output:', output0)\n",
    "result0 = rotate_optimized(number_feed, k)\n",
    "print('Actual output:', result0)\n",
    "print('Match:', result0 == output0)"
   ]
  },
  {
   "cell_type": "code",
   "execution_count": 37,
   "id": "ff84ee95",
   "metadata": {
    "scrolled": true
   },
   "outputs": [
    {
     "name": "stdout",
     "output_type": "stream",
     "text": [
      "\n",
      "\u001b[1mTEST CASE #0\u001b[0m\n",
      "[0]\n",
      "[50]\n",
      "[0, 10]\n",
      "[50]\n",
      "[0, 10, 20]\n",
      "[50]\n",
      "[0, 10, 20, 30]\n",
      "[50]\n",
      "[0, 10, 20, 30, 40]\n",
      "[50]\n",
      "\n",
      "Input:\n",
      "{'number_feed': [0, 10, 20, 30, 40, 50], 'k': 5}\n",
      "\n",
      "Expected Output:\n",
      "[50, 0, 10, 20, 30, 40]\n",
      "\n",
      "\n",
      "Actual Output:\n",
      "[50, 0, 10, 20, 30, 40]\n",
      "\n",
      "Execution Time:\n",
      "0.461 ms\n",
      "\n",
      "Test Result:\n",
      "\u001b[92mPASSED\u001b[0m\n",
      "\n",
      "\n",
      "\u001b[1mTEST CASE #1\u001b[0m\n",
      "\n",
      "Input:\n",
      "{'number_feed': [20], 'k': 3}\n",
      "\n",
      "Expected Output:\n",
      "[20]\n",
      "\n",
      "\n",
      "Actual Output:\n",
      "[20]\n",
      "\n",
      "Execution Time:\n",
      "0.007 ms\n",
      "\n",
      "Test Result:\n",
      "\u001b[92mPASSED\u001b[0m\n",
      "\n",
      "\n",
      "\u001b[1mTEST CASE #2\u001b[0m\n",
      "[101]\n",
      "[301, 401]\n",
      "[101, 201]\n",
      "[301, 401]\n",
      "\n",
      "Input:\n",
      "{'number_feed': [101, 201, 301, 401], 'k': 2}\n",
      "\n",
      "Expected Output:\n",
      "[301, 401, 101, 201]\n",
      "\n",
      "\n",
      "Actual Output:\n",
      "[301, 401, 101, 201]\n",
      "\n",
      "Execution Time:\n",
      "1.48 ms\n",
      "\n",
      "Test Result:\n",
      "\u001b[92mPASSED\u001b[0m\n",
      "\n",
      "\n",
      "\u001b[1mTEST CASE #3\u001b[0m\n",
      "\n",
      "Input:\n",
      "{'number_feed': [15, 30, 45, 60, 75, 90], 'k': 6}\n",
      "\n",
      "Expected Output:\n",
      "[15, 30, 45, 60, 75, 90]\n",
      "\n",
      "\n",
      "Actual Output:\n",
      "[15, 30, 45, 60, 75, 90]\n",
      "\n",
      "Execution Time:\n",
      "0.006 ms\n",
      "\n",
      "Test Result:\n",
      "\u001b[92mPASSED\u001b[0m\n",
      "\n",
      "\n",
      "\u001b[1mTEST CASE #4\u001b[0m\n",
      "\n",
      "Input:\n",
      "{'number_feed': [], 'k': 5}\n",
      "\n",
      "Expected Output:\n",
      "[]\n",
      "\n",
      "\n",
      "Actual Output:\n",
      "[]\n",
      "\n",
      "Execution Time:\n",
      "0.005 ms\n",
      "\n",
      "Test Result:\n",
      "\u001b[92mPASSED\u001b[0m\n",
      "\n",
      "\n",
      "\u001b[1mTEST CASE #5\u001b[0m\n",
      "[30]\n",
      "[40]\n",
      "\n",
      "Input:\n",
      "{'number_feed': [30, 40], 'k': 1}\n",
      "\n",
      "Expected Output:\n",
      "[40, 30]\n",
      "\n",
      "\n",
      "Actual Output:\n",
      "[40, 30]\n",
      "\n",
      "Execution Time:\n",
      "0.113 ms\n",
      "\n",
      "Test Result:\n",
      "\u001b[92mPASSED\u001b[0m\n",
      "\n",
      "\n",
      "\u001b[1mTEST CASE #6\u001b[0m\n",
      "\n",
      "Input:\n",
      "{'number_feed': [0, 10, 20, 30, 40, 50], 'k': 0}\n",
      "\n",
      "Expected Output:\n",
      "[0, 10, 20, 30, 40, 50]\n",
      "\n",
      "\n",
      "Actual Output:\n",
      "[0, 10, 20, 30, 40, 50]\n",
      "\n",
      "Execution Time:\n",
      "0.006 ms\n",
      "\n",
      "Test Result:\n",
      "\u001b[92mPASSED\u001b[0m\n",
      "\n",
      "\n",
      "\u001b[1mTEST CASE #7\u001b[0m\n",
      "[40, 50]\n",
      "[0]\n",
      "[0, 10]\n",
      "[0, 10, 20]\n",
      "[0, 10, 20, 30]\n",
      "\n",
      "Input:\n",
      "{'number_feed': [0, 10, 20, 30, 40, 50], 'k': 16}\n",
      "\n",
      "Expected Output:\n",
      "[40, 50, 0, 10, 20, 30]\n",
      "\n",
      "\n",
      "Actual Output:\n",
      "[40, 50, 0, 10, 20, 30]\n",
      "\n",
      "Execution Time:\n",
      "0.206 ms\n",
      "\n",
      "Test Result:\n",
      "\u001b[92mPASSED\u001b[0m\n",
      "\n",
      "\n",
      "\u001b[1mSUMMARY\u001b[0m\n",
      "\n",
      "TOTAL: 8, \u001b[92mPASSED\u001b[0m: 8, \u001b[91mFAILED\u001b[0m: 0\n"
     ]
    }
   ],
   "source": [
    "results = evaluate_test_cases(rotate_optimized, tests)"
   ]
  },
  {
   "cell_type": "markdown",
   "id": "61ad1856",
   "metadata": {},
   "source": [
    "### 9. Analyze the algorithm's complexity and identify inefficiencies, if any."
   ]
  },
  {
   "cell_type": "code",
   "execution_count": 38,
   "id": "b1abbd18",
   "metadata": {},
   "outputs": [],
   "source": [
    "rotate_optimized_time_complexity = 'O(n)'"
   ]
  },
  {
   "cell_type": "code",
   "execution_count": 39,
   "id": "ebc9e7ac",
   "metadata": {},
   "outputs": [],
   "source": [
    "rotate_optimized_space_complexity = 'O(1)'"
   ]
  },
  {
   "cell_type": "code",
   "execution_count": null,
   "id": "b5d01e40",
   "metadata": {},
   "outputs": [],
   "source": []
  },
  {
   "cell_type": "code",
   "execution_count": 40,
   "id": "1d0f7560",
   "metadata": {},
   "outputs": [
    {
     "data": {
      "application/javascript": [
       "window.require && require([\"base/js/namespace\"],function(Jupyter){Jupyter.notebook.save_checkpoint()})"
      ],
      "text/plain": [
       "<IPython.core.display.Javascript object>"
      ]
     },
     "metadata": {},
     "output_type": "display_data"
    },
    {
     "name": "stdout",
     "output_type": "stream",
     "text": [
      "[jovian] Updating notebook \"vikthour/rotated-list\" on https://jovian.ai/\n",
      "[jovian] Committed successfully! https://jovian.ai/vikthour/rotated-list\n"
     ]
    },
    {
     "data": {
      "text/plain": [
       "'https://jovian.ai/vikthour/rotated-list'"
      ]
     },
     "execution_count": 40,
     "metadata": {},
     "output_type": "execute_result"
    }
   ],
   "source": [
    "jovian.commit()"
   ]
  },
  {
   "cell_type": "code",
   "execution_count": 41,
   "id": "a4bcbfff",
   "metadata": {},
   "outputs": [
    {
     "data": {
      "application/javascript": [
       "window.require && require([\"base/js/namespace\"],function(Jupyter){Jupyter.notebook.save_checkpoint()})"
      ],
      "text/plain": [
       "<IPython.core.display.Javascript object>"
      ]
     },
     "metadata": {},
     "output_type": "display_data"
    },
    {
     "name": "stdout",
     "output_type": "stream",
     "text": [
      "[jovian] Updating notebook \"vikthour/rotated-list\" on https://jovian.ai/\n",
      "[jovian] Committed successfully! https://jovian.ai/vikthour/rotated-list\n",
      "[jovian] Submitting assignment..\n",
      "[jovian] Verify your submission at https://jovian.ai/learn/data-structures-and-algorithms-in-python/assignment/project-step-by-step-solution-to-a-programming-problem\n"
     ]
    }
   ],
   "source": [
    "jovian.submit(assignment=\"pythondsa-project\")"
   ]
  }
 ],
 "metadata": {
  "kernelspec": {
   "display_name": "Python 3",
   "language": "python",
   "name": "python3"
  },
  "language_info": {
   "codemirror_mode": {
    "name": "ipython",
    "version": 3
   },
   "file_extension": ".py",
   "mimetype": "text/x-python",
   "name": "python",
   "nbconvert_exporter": "python",
   "pygments_lexer": "ipython3",
   "version": "3.8.8"
  }
 },
 "nbformat": 4,
 "nbformat_minor": 5
}
